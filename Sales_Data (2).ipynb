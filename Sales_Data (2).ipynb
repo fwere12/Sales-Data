{
 "cells": [
  {
   "cell_type": "code",
   "execution_count": 1,
   "id": "2317cfac",
   "metadata": {},
   "outputs": [],
   "source": [
    "#Importing the necessary libraries\n",
    "import pandas as pd\n",
    "import numpy as np\n",
    "import matplotlib.pyplot as plt\n",
    "import seaborn as sns"
   ]
  },
  {
   "cell_type": "code",
   "execution_count": 2,
   "id": "952c6fe3",
   "metadata": {},
   "outputs": [
    {
     "data": {
      "text/html": [
       "<div>\n",
       "<style scoped>\n",
       "    .dataframe tbody tr th:only-of-type {\n",
       "        vertical-align: middle;\n",
       "    }\n",
       "\n",
       "    .dataframe tbody tr th {\n",
       "        vertical-align: top;\n",
       "    }\n",
       "\n",
       "    .dataframe thead th {\n",
       "        text-align: right;\n",
       "    }\n",
       "</style>\n",
       "<table border=\"1\" class=\"dataframe\">\n",
       "  <thead>\n",
       "    <tr style=\"text-align: right;\">\n",
       "      <th></th>\n",
       "      <th>Sales Person</th>\n",
       "      <th>Geography</th>\n",
       "      <th>Product</th>\n",
       "      <th>Units Sold in Dec 22</th>\n",
       "      <th>Units Sold in Jan 23</th>\n",
       "      <th>Units Sold in Feb 23</th>\n",
       "      <th>Units Sold in March 23</th>\n",
       "      <th>Price Per Unit</th>\n",
       "      <th>Revenue Dec 22</th>\n",
       "      <th>Revenue Jan 23</th>\n",
       "      <th>Revenue Feb 23</th>\n",
       "      <th>Revenue March 23</th>\n",
       "    </tr>\n",
       "  </thead>\n",
       "  <tbody>\n",
       "    <tr>\n",
       "      <th>0</th>\n",
       "      <td>Shaniqua Advani</td>\n",
       "      <td>Homa Bay</td>\n",
       "      <td>Mint Chip Choco</td>\n",
       "      <td>405</td>\n",
       "      <td>736</td>\n",
       "      <td>2906</td>\n",
       "      <td>1011</td>\n",
       "      <td>1,904</td>\n",
       "      <td>771120</td>\n",
       "      <td>1401344</td>\n",
       "      <td>5533024</td>\n",
       "      <td>1924944</td>\n",
       "    </tr>\n",
       "    <tr>\n",
       "      <th>1</th>\n",
       "      <td>Barr Kanywira</td>\n",
       "      <td>Lokitaung</td>\n",
       "      <td>White Choc</td>\n",
       "      <td>462</td>\n",
       "      <td>745</td>\n",
       "      <td>2268</td>\n",
       "      <td>961</td>\n",
       "      <td>1,785</td>\n",
       "      <td>824670</td>\n",
       "      <td>1329825</td>\n",
       "      <td>4048380</td>\n",
       "      <td>1715385</td>\n",
       "    </tr>\n",
       "    <tr>\n",
       "      <th>2</th>\n",
       "      <td>Mahamud Augar</td>\n",
       "      <td>Olootikoshoi</td>\n",
       "      <td>Orange Choco</td>\n",
       "      <td>492</td>\n",
       "      <td>653</td>\n",
       "      <td>2154</td>\n",
       "      <td>661</td>\n",
       "      <td>8,463</td>\n",
       "      <td>4163796</td>\n",
       "      <td>5526339</td>\n",
       "      <td>18229302</td>\n",
       "      <td>5594043</td>\n",
       "    </tr>\n",
       "    <tr>\n",
       "      <th>3</th>\n",
       "      <td>Shaniqua Advani</td>\n",
       "      <td>Olootikoshoi</td>\n",
       "      <td>Baker's Choco Chips</td>\n",
       "      <td>456</td>\n",
       "      <td>787</td>\n",
       "      <td>2068</td>\n",
       "      <td>1044</td>\n",
       "      <td>8,008</td>\n",
       "      <td>3651648</td>\n",
       "      <td>6302296</td>\n",
       "      <td>16560544</td>\n",
       "      <td>8360352</td>\n",
       "    </tr>\n",
       "    <tr>\n",
       "      <th>4</th>\n",
       "      <td>Gunar Wambua</td>\n",
       "      <td>Olootikoshoi</td>\n",
       "      <td>Caramel Stuffed Bars</td>\n",
       "      <td>312</td>\n",
       "      <td>551</td>\n",
       "      <td>2054</td>\n",
       "      <td>1023</td>\n",
       "      <td>3,689</td>\n",
       "      <td>1150968</td>\n",
       "      <td>2032639</td>\n",
       "      <td>7577206</td>\n",
       "      <td>3773847</td>\n",
       "    </tr>\n",
       "  </tbody>\n",
       "</table>\n",
       "</div>"
      ],
      "text/plain": [
       "      Sales Person     Geography               Product  Units Sold in Dec 22  \\\n",
       "0  Shaniqua Advani      Homa Bay       Mint Chip Choco                   405   \n",
       "1    Barr Kanywira     Lokitaung            White Choc                   462   \n",
       "2    Mahamud Augar  Olootikoshoi          Orange Choco                   492   \n",
       "3  Shaniqua Advani  Olootikoshoi   Baker's Choco Chips                   456   \n",
       "4     Gunar Wambua  Olootikoshoi  Caramel Stuffed Bars                   312   \n",
       "\n",
       "   Units Sold in Jan 23  Units Sold in Feb 23  Units Sold in March 23  \\\n",
       "0                   736                  2906                    1011   \n",
       "1                   745                  2268                     961   \n",
       "2                   653                  2154                     661   \n",
       "3                   787                  2068                    1044   \n",
       "4                   551                  2054                    1023   \n",
       "\n",
       "  Price Per Unit  Revenue Dec 22  Revenue Jan 23  Revenue Feb 23  \\\n",
       "0          1,904          771120         1401344         5533024   \n",
       "1          1,785          824670         1329825         4048380   \n",
       "2          8,463         4163796         5526339        18229302   \n",
       "3          8,008         3651648         6302296        16560544   \n",
       "4          3,689         1150968         2032639         7577206   \n",
       "\n",
       "   Revenue March 23  \n",
       "0           1924944  \n",
       "1           1715385  \n",
       "2           5594043  \n",
       "3           8360352  \n",
       "4           3773847  "
      ]
     },
     "execution_count": 2,
     "metadata": {},
     "output_type": "execute_result"
    }
   ],
   "source": [
    "#Loading our dataset\n",
    "data = pd.read_csv(\"C:/Users/Faith/Desktop/Temp/Data Sales.csv\")\n",
    "data.head(5)"
   ]
  },
  {
   "cell_type": "code",
   "execution_count": 3,
   "id": "75951b90",
   "metadata": {},
   "outputs": [
    {
     "data": {
      "text/html": [
       "<div>\n",
       "<style scoped>\n",
       "    .dataframe tbody tr th:only-of-type {\n",
       "        vertical-align: middle;\n",
       "    }\n",
       "\n",
       "    .dataframe tbody tr th {\n",
       "        vertical-align: top;\n",
       "    }\n",
       "\n",
       "    .dataframe thead th {\n",
       "        text-align: right;\n",
       "    }\n",
       "</style>\n",
       "<table border=\"1\" class=\"dataframe\">\n",
       "  <thead>\n",
       "    <tr style=\"text-align: right;\">\n",
       "      <th></th>\n",
       "      <th>count</th>\n",
       "      <th>mean</th>\n",
       "      <th>std</th>\n",
       "      <th>min</th>\n",
       "      <th>25%</th>\n",
       "      <th>50%</th>\n",
       "      <th>75%</th>\n",
       "      <th>max</th>\n",
       "    </tr>\n",
       "  </thead>\n",
       "  <tbody>\n",
       "    <tr>\n",
       "      <th>Units Sold in Dec 22</th>\n",
       "      <td>150.0</td>\n",
       "      <td>1.582200e+02</td>\n",
       "      <td>1.270329e+02</td>\n",
       "      <td>6.0</td>\n",
       "      <td>54.00</td>\n",
       "      <td>138.0</td>\n",
       "      <td>222.75</td>\n",
       "      <td>525.0</td>\n",
       "    </tr>\n",
       "    <tr>\n",
       "      <th>Units Sold in Jan 23</th>\n",
       "      <td>150.0</td>\n",
       "      <td>2.401467e+02</td>\n",
       "      <td>2.021711e+02</td>\n",
       "      <td>8.0</td>\n",
       "      <td>87.00</td>\n",
       "      <td>195.0</td>\n",
       "      <td>330.75</td>\n",
       "      <td>1004.0</td>\n",
       "    </tr>\n",
       "    <tr>\n",
       "      <th>Units Sold in Feb 23</th>\n",
       "      <td>150.0</td>\n",
       "      <td>5.289667e+02</td>\n",
       "      <td>5.420205e+02</td>\n",
       "      <td>8.0</td>\n",
       "      <td>133.25</td>\n",
       "      <td>320.5</td>\n",
       "      <td>794.75</td>\n",
       "      <td>2906.0</td>\n",
       "    </tr>\n",
       "    <tr>\n",
       "      <th>Units Sold in March 23</th>\n",
       "      <td>150.0</td>\n",
       "      <td>5.922200e+02</td>\n",
       "      <td>2.766018e+02</td>\n",
       "      <td>53.0</td>\n",
       "      <td>367.25</td>\n",
       "      <td>587.5</td>\n",
       "      <td>831.50</td>\n",
       "      <td>1049.0</td>\n",
       "    </tr>\n",
       "    <tr>\n",
       "      <th>Revenue Dec 22</th>\n",
       "      <td>150.0</td>\n",
       "      <td>7.028321e+05</td>\n",
       "      <td>9.357330e+05</td>\n",
       "      <td>2856.0</td>\n",
       "      <td>130866.75</td>\n",
       "      <td>319095.0</td>\n",
       "      <td>866166.00</td>\n",
       "      <td>5291790.0</td>\n",
       "    </tr>\n",
       "    <tr>\n",
       "      <th>Revenue Jan 23</th>\n",
       "      <td>150.0</td>\n",
       "      <td>1.079163e+06</td>\n",
       "      <td>1.536510e+06</td>\n",
       "      <td>3976.0</td>\n",
       "      <td>170782.50</td>\n",
       "      <td>468261.5</td>\n",
       "      <td>1383464.25</td>\n",
       "      <td>10349430.0</td>\n",
       "    </tr>\n",
       "    <tr>\n",
       "      <th>Revenue Feb 23</th>\n",
       "      <td>150.0</td>\n",
       "      <td>2.223446e+06</td>\n",
       "      <td>3.101722e+06</td>\n",
       "      <td>3416.0</td>\n",
       "      <td>277667.25</td>\n",
       "      <td>995564.5</td>\n",
       "      <td>3045085.75</td>\n",
       "      <td>18229302.0</td>\n",
       "    </tr>\n",
       "    <tr>\n",
       "      <th>Revenue March 23</th>\n",
       "      <td>150.0</td>\n",
       "      <td>2.490476e+06</td>\n",
       "      <td>2.363005e+06</td>\n",
       "      <td>14490.0</td>\n",
       "      <td>708109.50</td>\n",
       "      <td>1594813.5</td>\n",
       "      <td>3773421.75</td>\n",
       "      <td>10505530.0</td>\n",
       "    </tr>\n",
       "  </tbody>\n",
       "</table>\n",
       "</div>"
      ],
      "text/plain": [
       "                        count          mean           std      min        25%  \\\n",
       "Units Sold in Dec 22    150.0  1.582200e+02  1.270329e+02      6.0      54.00   \n",
       "Units Sold in Jan 23    150.0  2.401467e+02  2.021711e+02      8.0      87.00   \n",
       "Units Sold in Feb 23    150.0  5.289667e+02  5.420205e+02      8.0     133.25   \n",
       "Units Sold in March 23  150.0  5.922200e+02  2.766018e+02     53.0     367.25   \n",
       "Revenue Dec 22          150.0  7.028321e+05  9.357330e+05   2856.0  130866.75   \n",
       "Revenue Jan 23          150.0  1.079163e+06  1.536510e+06   3976.0  170782.50   \n",
       "Revenue Feb 23          150.0  2.223446e+06  3.101722e+06   3416.0  277667.25   \n",
       "Revenue March 23        150.0  2.490476e+06  2.363005e+06  14490.0  708109.50   \n",
       "\n",
       "                              50%         75%         max  \n",
       "Units Sold in Dec 22        138.0      222.75       525.0  \n",
       "Units Sold in Jan 23        195.0      330.75      1004.0  \n",
       "Units Sold in Feb 23        320.5      794.75      2906.0  \n",
       "Units Sold in March 23      587.5      831.50      1049.0  \n",
       "Revenue Dec 22           319095.0   866166.00   5291790.0  \n",
       "Revenue Jan 23           468261.5  1383464.25  10349430.0  \n",
       "Revenue Feb 23           995564.5  3045085.75  18229302.0  \n",
       "Revenue March 23        1594813.5  3773421.75  10505530.0  "
      ]
     },
     "execution_count": 3,
     "metadata": {},
     "output_type": "execute_result"
    }
   ],
   "source": [
    "#Summary statistics\n",
    "data.describe().T"
   ]
  },
  {
   "cell_type": "code",
   "execution_count": 4,
   "id": "a73f35c8",
   "metadata": {},
   "outputs": [
    {
     "data": {
      "text/plain": [
       "Sales Person              object\n",
       "Geography                 object\n",
       "Product                   object\n",
       "Units Sold in Dec 22       int64\n",
       "Units Sold in Jan 23       int64\n",
       "Units Sold in Feb 23       int64\n",
       "Units Sold in March 23     int64\n",
       "Price Per Unit            object\n",
       "Revenue Dec 22             int64\n",
       "Revenue Jan 23             int64\n",
       "Revenue Feb 23             int64\n",
       "Revenue March 23           int64\n",
       "dtype: object"
      ]
     },
     "execution_count": 4,
     "metadata": {},
     "output_type": "execute_result"
    }
   ],
   "source": [
    "#Checking our data types\n",
    "data.dtypes"
   ]
  },
  {
   "cell_type": "code",
   "execution_count": 5,
   "id": "8bfa8b87",
   "metadata": {},
   "outputs": [
    {
     "data": {
      "text/plain": [
       "Sales Person              0\n",
       "Geography                 0\n",
       "Product                   0\n",
       "Units Sold in Dec 22      0\n",
       "Units Sold in Jan 23      0\n",
       "Units Sold in Feb 23      0\n",
       "Units Sold in March 23    0\n",
       "Price Per Unit            0\n",
       "Revenue Dec 22            0\n",
       "Revenue Jan 23            0\n",
       "Revenue Feb 23            0\n",
       "Revenue March 23          0\n",
       "dtype: int64"
      ]
     },
     "execution_count": 5,
     "metadata": {},
     "output_type": "execute_result"
    }
   ],
   "source": [
    "#Checking if our dataset has any null values\n",
    "data.isnull().sum()"
   ]
  },
  {
   "cell_type": "code",
   "execution_count": 6,
   "id": "26eef01e",
   "metadata": {},
   "outputs": [
    {
     "data": {
      "text/plain": [
       "0"
      ]
     },
     "execution_count": 6,
     "metadata": {},
     "output_type": "execute_result"
    }
   ],
   "source": [
    "#Checking for duplicates in our dataset\n",
    "data.duplicated().sum()"
   ]
  },
  {
   "cell_type": "code",
   "execution_count": 7,
   "id": "d2c405df",
   "metadata": {},
   "outputs": [
    {
     "name": "stdout",
     "output_type": "stream",
     "text": [
      "Total Revenue for December 22: 105424809\n",
      "Total Revenue for January 23: 161874426\n",
      "Total Revenue for February 23: 333516834\n",
      "Total Revenue for March 23: 373571387\n"
     ]
    }
   ],
   "source": [
    "#1. For the Months of December 22 to March 23, find the total revenue per month.\n",
    "\n",
    "# Extract month-wise columns\n",
    "Dec_22 = data['Revenue Dec 22']\n",
    "Jan_23 = data['Revenue Jan 23']\n",
    "Feb_23 = data['Revenue Feb 23']\n",
    "Mar_23 = data['Revenue March 23']\n",
    "\n",
    "# Calculate total revenue per month\n",
    "total_dec_22 = Dec_22.sum()\n",
    "total_jan_23 = Jan_23.sum()\n",
    "total_feb_23 = Feb_23.sum()\n",
    "total_mar_23 = Mar_23.sum()\n",
    "\n",
    "# Print the results\n",
    "print(f'Total Revenue for December 22: {total_dec_22}')\n",
    "print(f'Total Revenue for January 23: {total_jan_23}')\n",
    "print(f'Total Revenue for February 23: {total_feb_23}')\n",
    "print(f'Total Revenue for March 23: {total_mar_23}')"
   ]
  },
  {
   "cell_type": "code",
   "execution_count": 8,
   "id": "255f4e99",
   "metadata": {},
   "outputs": [
    {
     "data": {
      "image/png": "[encoded data removed]",
      "text/plain": [
       "<Figure size 1000x400 with 1 Axes>"
      ]
     },
     "metadata": {},
     "output_type": "display_data"
    }
   ],
   "source": [
    "#2. What are the top 5 products overall based on revenue?\n",
    "\n",
    "# Calculate total revenue for each product across all months\n",
    "data['total_revenue'] = data[['Revenue Dec 22', 'Revenue Jan 23', 'Revenue Feb 23', 'Revenue March 23']].sum(axis=1)\n",
    "\n",
    "# Sort products based on total revenue in descending order\n",
    "sorted_products = data.sort_values(by='total_revenue', ascending=False)\n",
    "\n",
    "# Select the top 5 products\n",
    "top_5_products = sorted_products.head(5)\n",
    "\n",
    "# Plot the results\n",
    "plt.figure(figsize=(10, 4))\n",
    "plt.bar(top_5_products['Product'], top_5_products['total_revenue'], color='greenyellow', width = 0.3)\n",
    "plt.title('Top 5 Products Overall Based on Revenue')\n",
    "plt.xlabel('Product')\n",
    "plt.ylabel('Total Revenue')\n",
    "plt.show()"
   ]
  },
  {
   "cell_type": "code",
   "execution_count": 9,
   "id": "983a33f9",
   "metadata": {},
   "outputs": [
    {
     "name": "stdout",
     "output_type": "stream",
     "text": [
      "       Geography                    Product  Revenue March 23\n",
      "84  Olootikoshoi               Orange Choco          17078593\n",
      "77  Olootikoshoi        Baker's Choco Chips          12747056\n",
      "64       Mandera       Choco Coated Almonds          12618662\n",
      "45  Mahandaakini       Caramel Stuffed Bars          11248552\n",
      "35       Machuom  ManLokitaunga Honey Choco          11114397\n",
      "7       Homa Bay                    Eclairs           9986417\n",
      "32       Machuom              Drinking Coco           9882432\n",
      "37       Machuom            Mint Chip Choco           9787218\n",
      "39       Machuom        Peanut Butter Cubes           9302944\n",
      "31       Machuom       Choco Coated Almonds           8672230\n",
      "79  Olootikoshoi       Choco Coated Almonds           8560006\n",
      "78  Olootikoshoi       Caramel Stuffed Bars           8316140\n",
      "26     Lokitaung         Smooth Sliky Salty           7743190\n",
      "3       Homa Bay            99% Dark & Pure           7470946\n",
      "70       Mandera        Peanut Butter Cubes           7414484\n",
      "80  Olootikoshoi                    Eclairs           7188118\n",
      "42  Mahandaakini             50% Dark Bites           6831888\n",
      "57       Mandera             70% Dark Bites           6782020\n",
      "71       Mandera            Raspberry Choco           6667171\n",
      "17     Lokitaung             70% Dark Bites           6452299\n",
      "8       Homa Bay           Fruit & Nut Bars           6437907\n",
      "44  Mahandaakini               Almond Choco           6204625\n",
      "20     Lokitaung       Caramel Stuffed Bars           5996865\n",
      "13      Homa Bay         Smooth Sliky Salty           5674907\n",
      "54  Mahandaakini        Spicy Special Slims           5586686\n",
      "12      Homa Bay            Raspberry Choco           5572966\n",
      "48  Mahandaakini           Fruit & Nut Bars           5558756\n",
      "19     Lokitaung        Baker's Choco Chips           5225528\n",
      "69       Mandera        Organic Choco Syrup           5109713\n",
      "21     Lokitaung                    Eclairs           4772824\n"
     ]
    }
   ],
   "source": [
    "#3. What are the top 5 products based on both geographical area and sales volume in March 23?\n",
    "\n",
    "# We first filter data for March 23\n",
    "df_mar_23 = data[data['Revenue March 23'].notna()]\n",
    "\n",
    "# Group by both 'geographical_area' and 'product' and sum the revenue\n",
    "grouped_df = df_mar_23.groupby(['Geography', 'Product'])['Revenue March 23'].sum().reset_index()\n",
    "\n",
    "# Sort by sales volume in descending order\n",
    "sorted_df = grouped_df.sort_values(by='Revenue March 23', ascending=False)\n",
    "\n",
    "# Get the top 5 products for each geographical area\n",
    "top_5_products_per_area = sorted_df.groupby('Geography').head(5)\n",
    "\n",
    "# Display the results\n",
    "print(top_5_products_per_area)"
   ]
  },
  {
   "cell_type": "code",
   "execution_count": 10,
   "id": "e6508f0c",
   "metadata": {},
   "outputs": [
    {
     "name": "stdout",
     "output_type": "stream",
     "text": [
      "       Geography                    Product  Revenue March 23\n",
      "62       Mandera        Baker's Choco Chips             39396\n",
      "75  Olootikoshoi                After Nines             84672\n",
      "29       Machuom        Baker's Choco Chips             97216\n",
      "5       Homa Bay               Almond Choco            130536\n",
      "40       Machuom        Spicy Special Slims            149597\n",
      "4       Homa Bay                After Nines            172494\n",
      "83  Olootikoshoi                  Milk Bars            255780\n",
      "72       Mandera        Spicy Special Slims            294840\n",
      "59       Mandera            99% Dark & Pure            322399\n",
      "68       Mandera               Orange Choco            448098\n",
      "76  Olootikoshoi               Almond Choco            470400\n",
      "87  Olootikoshoi            Raspberry Choco            477302\n",
      "53  Mahandaakini         Smooth Sliky Salty            533519\n",
      "52  Mahandaakini        Peanut Butter Cubes            700070\n",
      "51  Mahandaakini        Organic Choco Syrup            807408\n",
      "9       Homa Bay  ManLokitaunga Honey Choco            858235\n",
      "18     Lokitaung                After Nines           1145949\n",
      "16     Lokitaung             50% Dark Bites           1172920\n",
      "73       Mandera                 White Choc           1177792\n",
      "11      Homa Bay        Peanut Butter Cubes           1233463\n",
      "30       Machuom       Caramel Stuffed Bars           1293418\n",
      "23     Lokitaung            Mint Chip Choco           1322874\n",
      "89  Olootikoshoi                 White Choc           1411816\n",
      "38       Machuom        Organic Choco Syrup           1483482\n",
      "14      Homa Bay        Spicy Special Slims           1592619\n",
      "25     Lokitaung        Organic Choco Syrup           1718640\n",
      "50  Mahandaakini            Mint Chip Choco           1954246\n",
      "55  Mahandaakini                 White Choc           2054766\n",
      "22     Lokitaung  ManLokitaunga Honey Choco           2243220\n",
      "41       Machuom                 White Choc           2705703\n"
     ]
    }
   ],
   "source": [
    "#4. What are the bottom 5 products based on sales revenue, overall? \n",
    "# Sort by sales volume in descending order\n",
    "sorted_df = grouped_df.sort_values(by='Revenue March 23', ascending=True)\n",
    "\n",
    "# Get the top 5 products for each geographical area\n",
    "bottom_5_products_per_area = sorted_df.groupby('Geography').head(5)\n",
    "\n",
    "# Display the results\n",
    "print(bottom_5_products_per_area)"
   ]
  },
  {
   "cell_type": "code",
   "execution_count": 11,
   "id": "a0a63405",
   "metadata": {},
   "outputs": [
    {
     "name": "stdout",
     "output_type": "stream",
     "text": [
      "       Geography              Product  Revenue March 23\n",
      "62       Mandera  Baker's Choco Chips             39396\n",
      "75  Olootikoshoi          After Nines             84672\n",
      "29       Machuom  Baker's Choco Chips             97216\n",
      "5       Homa Bay         Almond Choco            130536\n",
      "40       Machuom  Spicy Special Slims            149597\n"
     ]
    }
   ],
   "source": [
    "#5. What are the bottom 5 products based on both geographical area and sales volume, overall?\n",
    "\n",
    "# Group by both 'geographical_area' and 'product' and sum the revenue\n",
    "grouped_df = df_mar_23.groupby(['Geography', 'Product'])['Revenue March 23'].sum().reset_index()\n",
    "\n",
    "# Sort by sales volume in ascending order\n",
    "sorted_df = grouped_df.sort_values(by='Revenue March 23', ascending=True)\n",
    "\n",
    "# Get the bottom 5 products overall\n",
    "bottom_5_products_overall = sorted_df.head(5)\n",
    "\n",
    "# Display the results\n",
    "print(bottom_5_products_overall)"
   ]
  },
  {
   "cell_type": "code",
   "execution_count": 12,
   "id": "5abf8ab9",
   "metadata": {},
   "outputs": [
    {
     "data": {
      "image/png": "[encoded data removed]",
      "text/plain": [
       "<Figure size 1000x400 with 1 Axes>"
      ]
     },
     "metadata": {},
     "output_type": "display_data"
    }
   ],
   "source": [
    "# Plot the results\n",
    "plt.figure(figsize=(10, 4))\n",
    "plt.bar(bottom_5_products_overall['Product'], bottom_5_products_overall['Revenue March 23'], color='salmon', width = 0.3)\n",
    "plt.title('Bottom 5 Products Overall Based on Sales Volume (March 23)')\n",
    "plt.xlabel('Products')\n",
    "plt.ylabel('Total Sales Volume')\n",
    "plt.show()"
   ]
  },
  {
   "cell_type": "code",
   "execution_count": null,
   "id": "9a5d9cc0",
   "metadata": {},
   "outputs": [],
   "source": []
  }
 ],
 "metadata": {
  "kernelspec": {
   "display_name": "Python 3 (ipykernel)",
   "language": "python",
   "name": "python3"
  },
  "language_info": {
   "codemirror_mode": {
    "name": "ipython",
    "version": 3
   },
   "file_extension": ".py",
   "mimetype": "text/x-python",
   "name": "python",
   "nbconvert_exporter": "python",
   "pygments_lexer": "ipython3",
   "version": "3.9.13"
  }
 },
 "nbformat": 4,
 "nbformat_minor": 5
}
